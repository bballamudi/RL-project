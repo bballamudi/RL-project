{
 "cells": [
  {
   "cell_type": "markdown",
   "metadata": {},
   "source": [
    "# SARSA on Grid World\n",
    "This notebook shows how to apply the SARSA (State Action Reward State Action) algoritm to the gridworld problem"
   ]
  },
  {
   "cell_type": "code",
   "execution_count": 1,
   "metadata": {
    "collapsed": true
   },
   "outputs": [],
   "source": [
    "# Set relative path to parent directory\n",
    "import sys, os\n",
    "sys.path.insert(0, os.path.abspath('..'))"
   ]
  },
  {
   "cell_type": "code",
   "execution_count": 2,
   "metadata": {},
   "outputs": [],
   "source": [
    "# Import and set up environment\n",
    "from environments.gridWorld import gridWorld\n",
    "env = gridWorld('../environments/gridworlds/tiny.json')"
   ]
  },
  {
   "cell_type": "markdown",
   "metadata": {},
   "source": [
    "## The SARSA algorithm\n",
    "The SARSA algorithem is based on the Temporal-Difference learning update rule only applied to state action pairs. This gives the following on polecy update rule:\n",
    "$$\n",
    "    Q(s, a) \\gets Q(s, a)  + \\alpha \\big{[} R(s', s, a) + \\gamma Q(s', a') - Q(s, a) \\big{]}\n",
    "$$\n",
    "where :\n",
    "- $s$ and $s'$ are states, where $s'$ is the state we land in after taking action $a$ in state $s$\n",
    "- $a$ and $a'$ are the actions taken in state $s$ and $s'$ respectively\n",
    "- $\\alpha$ is the learning rate\n",
    "- $\\gamma$ is the discounting rate\n",
    "- $Q(s, a)$ is the value (expected discounted reward) of taking action $a$ in state $s$"
   ]
  },
  {
   "cell_type": "code",
   "execution_count": 3,
   "metadata": {},
   "outputs": [],
   "source": [
    "from matplotlib import pyplot as plt\n",
    "import numpy as np\n",
    "\n",
    "\n",
    "# Initialize Q values\n",
    "q_default = 0\n",
    "\n",
    "def choose_action(env, Q, s, epsilon = 0.9):\n",
    "    # Select action (epsilon greedy)\n",
    "    if env.actions() == []:\n",
    "        return 'U'\n",
    "    if np.random.rand() < epsilon:\n",
    "        a = env.actions()[np.argmax([Q.get((*s, action), q_default) for action in env.actions()])]\n",
    "    else:\n",
    "        a = np.random.choice(env.actions())\n",
    "    return a\n",
    "\n",
    "def sarsa(env, gamma, alpha, Q = dict()):\n",
    "    # Initialize environment\n",
    "    s = env.init()\n",
    "    \n",
    "    # Select initial action\n",
    "    a = choose_action(env, Q, s)\n",
    "    \n",
    "    \n",
    "    while(env.terminal[s] == 0):\n",
    "        # Perform action and observe reward\n",
    "        env.step(a)\n",
    "        r = env.reward()\n",
    "        s_next = env.state()\n",
    "        \n",
    "        # Selct next action\n",
    "        a_next = choose_action(env, Q, s_next)\n",
    "        \n",
    "        # Q update\n",
    "        Q[(*s, a)] = (1-alpha)*Q.get((*s, a), q_default) + alpha*(r +  gamma*Q.get((*s_next, a_next), q_default))\n",
    "        \n",
    "        a = a_next\n",
    "        s = s_next\n",
    "    return Q"
   ]
  },
  {
   "cell_type": "code",
   "execution_count": 6,
   "metadata": {},
   "outputs": [
    {
     "name": "stdout",
     "output_type": "stream",
     "text": [
      "Episode: 0, Alpha: 1.0000, Q size: 12\n",
      "Episode: 1000, Alpha: 0.9020, Q size: 40\n",
      "Episode: 2000, Alpha: 0.8040, Q size: 40\n",
      "Episode: 3000, Alpha: 0.7060, Q size: 40\n",
      "Episode: 4000, Alpha: 0.6080, Q size: 40\n",
      "Episode: 5000, Alpha: 0.5100, Q size: 40\n",
      "Episode: 6000, Alpha: 0.4120, Q size: 40\n",
      "Episode: 7000, Alpha: 0.3140, Q size: 40\n",
      "Episode: 8000, Alpha: 0.2160, Q size: 40\n",
      "Episode: 9000, Alpha: 0.1180, Q size: 40\n"
     ]
    }
   ],
   "source": [
    "import numpy as np\n",
    "\n",
    "Q = dict()\n",
    "NUM_EPISODES = 10000\n",
    "for e in range(NUM_EPISODES):\n",
    "    alpha = 1 - 0.98*e/NUM_EPISODES #Decaying learning rate\n",
    "    Q = sarsa(env , gamma = 1.0 , alpha = alpha, Q = Q)\n",
    "    if e%(NUM_EPISODES//10) == 0:\n",
    "        print(\"Episode: {}, Alpha: {:1.4f}, Q size: {}\".format(e, alpha, len(Q)))"
   ]
  },
  {
   "cell_type": "code",
   "execution_count": 7,
   "metadata": {},
   "outputs": [
    {
     "data": {
      "image/png": "[encoded data removed]",
      "text/plain": [
       "<matplotlib.figure.Figure at 0x2b513f7cd68>"
      ]
     },
     "metadata": {},
     "output_type": "display_data"
    }
   ],
   "source": [
    "from matplotlib import pyplot as plt\n",
    "\n",
    "def show_action_value_function(Q):\n",
    "    fig = env.render(show = False, show_state = False, show_reward = False)            \n",
    "    for s in env.states():\n",
    "        lst = [Q[(*s, a)] for a in env.actions(s)]\n",
    "        if lst:\n",
    "            fig.axes[0].annotate(\"{0:.3f}\".format(max(lst)), (s[1] - 0.1, s[0] + 0.1), size = 12)\n",
    "    plt.show()\n",
    "\n",
    "show_action_value_function(Q)"
   ]
  },
  {
   "cell_type": "code",
   "execution_count": 8,
   "metadata": {},
   "outputs": [
    {
     "data": {
      "image/png": "[encoded data removed]",
      "text/plain": [
       "<matplotlib.figure.Figure at 0x2b513f94dd8>"
      ]
     },
     "metadata": {},
     "output_type": "display_data"
    }
   ],
   "source": [
    "from matplotlib import pyplot as plt\n",
    "\n",
    "def show_action_value_policy(Q):\n",
    "    fig = env.render(show = False, show_state = False, show_reward = False)\n",
    "    action_map = {\"U\": \"↑\", \"D\": \"↓\", \"L\": \"←\", \"R\": \"→\"}\n",
    "    for s in env.states():\n",
    "        lst = [Q[(*s, a)] for a in env.actions(s)]\n",
    "        if lst:\n",
    "            fig.axes[0].annotate(action_map[env.actions(s)[np.argmax(lst)]], (s[1] - 0.1, s[0] + 0.1), size = 20)\n",
    "    plt.show()\n",
    "    \n",
    "show_action_value_policy(Q)"
   ]
  }
 ],
 "metadata": {
  "kernelspec": {
   "display_name": "Python [conda env:tensorflow]",
   "language": "python",
   "name": "conda-env-tensorflow-py"
  },
  "language_info": {
   "codemirror_mode": {
    "name": "ipython",
    "version": 3
   },
   "file_extension": ".py",
   "mimetype": "text/x-python",
   "name": "python",
   "nbconvert_exporter": "python",
   "pygments_lexer": "ipython3",
   "version": "3.5.3"
  }
 },
 "nbformat": 4,
 "nbformat_minor": 2
}
