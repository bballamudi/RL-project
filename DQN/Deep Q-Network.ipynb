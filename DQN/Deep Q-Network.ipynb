{
 "cells": [
  {
   "cell_type": "markdown",
   "metadata": {},
   "source": [
    "# Deep Q-Network"
   ]
  },
  {
   "cell_type": "code",
   "execution_count": 1,
   "metadata": {
    "collapsed": true
   },
   "outputs": [],
   "source": [
    "# Set relative path to parent directory\n",
    "import sys, os\n",
    "sys.path.insert(0, os.path.abspath('..'))"
   ]
  },
  {
   "cell_type": "code",
   "execution_count": 2,
   "metadata": {
    "collapsed": true
   },
   "outputs": [],
   "source": [
    "import tensorflow as tf\n",
    "import tensorflow.contrib.slim as slim\n",
    "import matplotlib.pyplot as plt\n",
    "import numpy as np\n",
    "\n",
    "checkpoint_file = \"./weights/dqn.ckpt\""
   ]
  },
  {
   "cell_type": "markdown",
   "metadata": {},
   "source": [
    "## The deep q network class"
   ]
  },
  {
   "cell_type": "code",
   "execution_count": 6,
   "metadata": {
    "collapsed": true
   },
   "outputs": [],
   "source": [
    "\n",
    "class Qnetwork():\n",
    "    def __init__(self, learnig_rate, state_size, action_size, hidden_layer_shape, hidden_output_size):\n",
    "        # Here we create the input of the network, and a hidden layer\n",
    "        self.state_in = tf.placeholder(shape=[None,state_size],dtype=tf.float32)\n",
    "        self.hidden = slim.stack(inputs = self.state_in,\n",
    "                                 layer = slim.fully_connected, \n",
    "                                 stack_args = hidden_layer_shape, \n",
    "                                 biases_initializer = None, \n",
    "                                 activation_fn = tf.nn.relu)\n",
    "        \n",
    "        # We take the input state and split into a value and advangage sub network\n",
    "        self.value_in = slim.flatten(self.hidden)\n",
    "        self.advantage_in = slim.flatten(self.hidden)\n",
    "        xavier_init = tf.contrib.layers.xavier_initializer()\n",
    "        self.advantage_weights = tf.Variable(xavier_init([hidden_output_size,action_size]))\n",
    "        self.value_weights = tf.Variable(xavier_init([hidden_output_size,1]))\n",
    "        self.advantage = tf.matmul(self.advantage_in,self.action_weights)\n",
    "        self.value = tf.matmul(self.value_in,self.value_weights)\n",
    "        \n",
    "        # We then combine the two sub netorks to get our final Q-values.\n",
    "        self.Q_out = self.value + tf.subtract(self.Advantage,tf.reduce_mean(self.Advantage,axis=1,keep_dims=True))\n",
    "        self.predict = tf.argmax(self.Q_out,1)\n",
    "        \n",
    "        # We define the loss as the sum of squares difference between the target and prediction Q values.\n",
    "        self.target_Q = tf.placeholder(shape=[None],dtype=tf.float32)\n",
    "        self.actions = tf.placeholder(shape=[None],dtype=tf.int32)\n",
    "        self.actions_onehot = tf.one_hot(self.actions,env.actions,dtype=tf.float32)\n",
    "        \n",
    "        self.Q = tf.reduce_sum(tf.multiply(self.Q_out, self.actions_onehot), axis=1)\n",
    "        \n",
    "        self.td_error = tf.square(self.targetQ - self.Q)\n",
    "        self.loss = tf.reduce_mean(self.td_error)\n",
    "        self.trainer = tf.train.AdamOptimizer(learning_rate=0.0001)\n",
    "        self.updateModel = self.trainer.minimize(self.loss)"
   ]
  }
 ],
 "metadata": {
  "kernelspec": {
   "display_name": "Python [conda env:tensorflow]",
   "language": "python",
   "name": "conda-env-tensorflow-py"
  },
  "language_info": {
   "codemirror_mode": {
    "name": "ipython",
    "version": 3
   },
   "file_extension": ".py",
   "mimetype": "text/x-python",
   "name": "python",
   "nbconvert_exporter": "python",
   "pygments_lexer": "ipython3",
   "version": "3.5.3"
  }
 },
 "nbformat": 4,
 "nbformat_minor": 2
}
