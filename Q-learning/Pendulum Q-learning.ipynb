{
 "cells": [
  {
   "cell_type": "markdown",
   "metadata": {},
   "source": [
    "# Pendulum upswing using Q-learning\n",
    "This notebook shows an example of the q learning algorithem being used to swing a pendulum up to a vertical position when it has tourque limitations"
   ]
  },
  {
   "cell_type": "code",
   "execution_count": 1,
   "metadata": {
    "collapsed": true
   },
   "outputs": [],
   "source": [
    "# Set relative path to parent directory\n",
    "import sys, os\n",
    "sys.path.insert(0, os.path.abspath('..'))"
   ]
  },
  {
   "cell_type": "markdown",
   "metadata": {},
   "source": [
    "## Pendulum environment\n",
    "We first import the pendulum environment and define the discreteization of the actions and states, as well as defining the reward function. "
   ]
  },
  {
   "cell_type": "code",
   "execution_count": 2,
   "metadata": {},
   "outputs": [],
   "source": [
    "from environments.pendulum import pendulum\n",
    "import numpy as np\n",
    "env = pendulum()\n",
    "env.step_size = 0.1\n",
    "\n",
    "r = lambda theta : ((theta/np.pi - 1) % 2)*np.pi - np.pi\n",
    "env.actions = lambda: [0, -4, 4]\n",
    "env.reward = lambda:  np.max([10 - (100*np.abs(env.x[0])), 0])\n",
    "env.state = lambda: [int(np.round(r(env.x[0])*100)), int(np.round(env.x[1]*10))]"
   ]
  },
  {
   "cell_type": "markdown",
   "metadata": {},
   "source": [
    "## Q-learning algorithm"
   ]
  },
  {
   "cell_type": "code",
   "execution_count": 3,
   "metadata": {
    "collapsed": true
   },
   "outputs": [],
   "source": [
    "import numpy as np\n",
    "\n",
    "q_default = 0\n",
    "\n",
    "def Q_Learning(env, gamma, alpha, epsilon, Q = dict()):\n",
    "    # Initialize environment\n",
    "    theta = (2*np.random.rand()-1)*0.01\n",
    "    s = env.init([theta, 0])\n",
    "    \n",
    "    while(np.abs(s[0]) < 700 and np.abs(s[1]) < 70):\n",
    "        # Select action (epsilon greedy)\n",
    "        if np.random.rand() < epsilon:\n",
    "            a = env.actions()[np.argmax([Q.get((*s, action), q_default) for action in env.actions()])]\n",
    "        else:\n",
    "            a = np.random.choice(env.actions())\n",
    "        \n",
    "        # Perform action and observe reward\n",
    "        env.step(a)\n",
    "        r = env.reward()\n",
    "        s_next = env.state()\n",
    "        \n",
    "        # Q update\n",
    "        lst = [Q.get((*s_next, action), q_default) for action in env.actions()]\n",
    "        Q[(*s, a)] = Q.get((*s, a), q_default) + alpha*(r + gamma*np.max(lst) - Q.get((*s, a), q_default))\n",
    "        \n",
    "        s = s_next\n",
    "    return Q"
   ]
  },
  {
   "cell_type": "markdown",
   "metadata": {},
   "source": [
    "### Start training"
   ]
  },
  {
   "cell_type": "code",
   "execution_count": 4,
   "metadata": {},
   "outputs": [
    {
     "name": "stdout",
     "output_type": "stream",
     "text": [
      "Episode: 0, Epsilon: 0.0000, Q size: 28\n",
      "Episode: 1, Epsilon: 0.0950, Q size: 54\n",
      "Episode: 2, Epsilon: 0.1900, Q size: 98\n",
      "Episode: 3, Epsilon: 0.2850, Q size: 124\n",
      "Episode: 4, Epsilon: 0.3800, Q size: 168\n",
      "Episode: 5, Epsilon: 0.4750, Q size: 281\n",
      "Episode: 6, Epsilon: 0.5700, Q size: 312\n",
      "Episode: 7, Epsilon: 0.6650, Q size: 350\n",
      "Episode: 8, Epsilon: 0.7600, Q size: 427\n",
      "Episode: 9, Epsilon: 0.8550, Q size: 451\n"
     ]
    }
   ],
   "source": [
    "import numpy as np\n",
    "\n",
    "Q = dict()\n",
    "NUM_EPISODES = 10\n",
    "for e in range(NUM_EPISODES):\n",
    "    epsilon = 0.95*e/NUM_EPISODES #Decaying random coice of action\n",
    "    #epsilon = 0.99\n",
    "    Q = Q_Learning(env , gamma = 0.9 , alpha = 0.5, epsilon = epsilon, Q = Q)\n",
    "    print(\"Episode: {}, Epsilon: {:1.4f}, Q size: {}\".format(e, epsilon, len(Q)))"
   ]
  },
  {
   "cell_type": "markdown",
   "metadata": {},
   "source": [
    "### Save and load Q values"
   ]
  },
  {
   "cell_type": "code",
   "execution_count": 5,
   "metadata": {
    "collapsed": true
   },
   "outputs": [],
   "source": [
    "import pickle\n",
    "\n",
    "#pickle.dump( Q, open( \"q_vals.p\", \"wb\" ) )\n",
    "Q = pickle.load(open( \"q_vals.p\", \"rb\" ))"
   ]
  },
  {
   "cell_type": "markdown",
   "metadata": {},
   "source": [
    "## Run model with Q the given q values"
   ]
  },
  {
   "cell_type": "code",
   "execution_count": 6,
   "metadata": {},
   "outputs": [
    {
     "name": "stdout",
     "output_type": "stream",
     "text": [
      "Using matplotlib backend: Qt5Agg\n"
     ]
    },
    {
     "name": "stderr",
     "output_type": "stream",
     "text": [
      "C:\\Users\\andreabm\\AppData\\Local\\Continuum\\Anaconda3\\envs\\tensorflow\\lib\\site-packages\\matplotlib\\backend_bases.py:2453: MatplotlibDeprecationWarning: Using default event loop until function specific to this GUI is implemented\n",
      "  warnings.warn(str, mplDeprecation)\n"
     ]
    }
   ],
   "source": [
    "from matplotlib import pyplot as plt\n",
    "import numpy as np\n",
    "%matplotlib auto\n",
    "\n",
    "env.render()\n",
    "\n",
    "\n",
    "env.init([np.pi, 0])\n",
    "sampels = 100\n",
    "y = np.zeros((sampels, 2))\n",
    "q = np.zeros((sampels, 1))\n",
    "y[0, :] = env.x\n",
    "\n",
    "\n",
    "for t in range(sampels):\n",
    "    s = env.state()\n",
    "    u = env.actions()[np.argmax([Q.get((*s, action), -100) for action in env.actions()])]\n",
    "    env.step(u)\n",
    "    y[t, :] = env.state()\n",
    "    q[t] = Q.get((*s, u), -1)\n",
    "    plt.pause(0.01)\n",
    "    #if t%10 == 0:\n",
    "    #    env.render()\n",
    "    \n",
    "t = np.linspace(0, env.step_size*(sampels-1), sampels)"
   ]
  },
  {
   "cell_type": "code",
   "execution_count": 7,
   "metadata": {},
   "outputs": [
    {
     "data": {
      "image/png": "[encoded data removed]",
      "text/plain": [
       "<matplotlib.figure.Figure at 0x2305bc41278>"
      ]
     },
     "metadata": {},
     "output_type": "display_data"
    }
   ],
   "source": [
    "from matplotlib import pyplot as plt\n",
    "%matplotlib inline\n",
    "plt.plot(t,y)\n",
    "#plt.plot(t, q*10)\n",
    "plt.xlabel('Time [sec]')\n",
    "plt.legend(['Angle','Angular velocity'])\n",
    "plt.show()"
   ]
  }
 ],
 "metadata": {
  "kernelspec": {
   "display_name": "Python [conda env:tensorflow]",
   "language": "python",
   "name": "conda-env-tensorflow-py"
  },
  "language_info": {
   "codemirror_mode": {
    "name": "ipython",
    "version": 3
   },
   "file_extension": ".py",
   "mimetype": "text/x-python",
   "name": "python",
   "nbconvert_exporter": "python",
   "pygments_lexer": "ipython3",
   "version": "3.5.3"
  }
 },
 "nbformat": 4,
 "nbformat_minor": 2
}
