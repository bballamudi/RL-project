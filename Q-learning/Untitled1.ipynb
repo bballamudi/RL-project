{
 "cells": [
  {
   "cell_type": "code",
   "execution_count": 1,
   "metadata": {},
   "outputs": [
    {
     "name": "stdout",
     "output_type": "stream",
     "text": [
      "Using matplotlib backend: Qt5Agg\n"
     ]
    }
   ],
   "source": [
    "import numpy as np\n",
    "import matplotlib.pyplot as plt\n",
    "from cartPendulum import cartPendulum\n",
    "\n",
    "%matplotlib auto"
   ]
  },
  {
   "cell_type": "code",
   "execution_count": 5,
   "metadata": {},
   "outputs": [
    {
     "name": "stderr",
     "output_type": "stream",
     "text": [
      "C:\\Users\\andreabm\\AppData\\Local\\Continuum\\Anaconda3\\envs\\tensorflow\\lib\\site-packages\\matplotlib\\backend_bases.py:2453: MatplotlibDeprecationWarning: Using default event loop until function specific to this GUI is implemented\n",
      "  warnings.warn(str, mplDeprecation)\n"
     ]
    }
   ],
   "source": [
    "import matplotlib.pyplot as plt\n",
    "import numpy as np\n",
    "\n",
    "env = cartPendulum(x0 = [0, 0.01, 0, 0])\n",
    "env.m_c = 10\n",
    "env.m_p = 1\n",
    "env.step_size = 0.01\n",
    "\n",
    "sampels = 5000\n",
    "y = np.zeros((sampels, 4))\n",
    "y[0, :] = env.x\n",
    "\n",
    "for t in range(sampels):\n",
    "    u = 30*env.x[1]\n",
    "    env.step(0)\n",
    "    y[t + 1: :] = env.x\n",
    "    if t%10 == 0:\n",
    "        env.render()\n",
    "        \n",
    "t = np.linspace(0, env.step_size*(sampels-1), sampels)"
   ]
  },
  {
   "cell_type": "code",
   "execution_count": 12,
   "metadata": {
    "collapsed": true
   },
   "outputs": [],
   "source": [
    "from matplotlib import pyplot as plt\n",
    "plt.plot(t,y)\n",
    "plt.xlabel('Time [sec]')\n",
    "plt.legend(['x_1','x_2', 'x_3', 'x_4'])\n",
    "plt.show()"
   ]
  },
  {
   "cell_type": "code",
   "execution_count": 16,
   "metadata": {},
   "outputs": [],
   "source": [
    "K = 0.5*env.m_c*y[:, 2]**2 + 0.5*env.m_p*(y[:, 2]**2 + 2*(y[:, 2])*(y[:, 3])*env.l*np.cos(y[:, 1]) + env.l*env.l*(y[:, 3]**2))\n",
    "U = env.m_p*env.g*env.l*(1 - np.cos(y[:, 1]))\n",
    "#plt.axis([0, 50, -0.01, 0.01])\n",
    "plt.plot(t, K - U)\n",
    "plt.show()"
   ]
  }
 ],
 "metadata": {
  "anaconda-cloud": {},
  "kernelspec": {
   "display_name": "Python [conda env:tensorflow]",
   "language": "python",
   "name": "conda-env-tensorflow-py"
  },
  "language_info": {
   "codemirror_mode": {
    "name": "ipython",
    "version": 3
   },
   "file_extension": ".py",
   "mimetype": "text/x-python",
   "name": "python",
   "nbconvert_exporter": "python",
   "pygments_lexer": "ipython3",
   "version": "3.5.3"
  }
 },
 "nbformat": 4,
 "nbformat_minor": 2
}
