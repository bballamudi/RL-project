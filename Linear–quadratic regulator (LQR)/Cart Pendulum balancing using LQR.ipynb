{
 "cells": [
  {
   "cell_type": "markdown",
   "metadata": {},
   "source": [
    "# Cart Pendulum balancing using LQR\n",
    "This example shows how to use a Linear–quadratic regulator to balance the cart pendulum system"
   ]
  },
  {
   "cell_type": "code",
   "execution_count": 2,
   "metadata": {
    "collapsed": true
   },
   "outputs": [],
   "source": [
    "# Set relative path to parent directory\n",
    "import sys, os\n",
    "sys.path.insert(0, os.path.abspath('..'))"
   ]
  },
  {
   "cell_type": "code",
   "execution_count": 4,
   "metadata": {
    "collapsed": true
   },
   "outputs": [],
   "source": [
    "# Import environment\n",
    "from environments.cartPendulum import cartPendulum\n",
    "\n",
    "env = cartPendulum(mass_cart=1, mass_pendulum=0.1, length_pendulum=1, gravity=9.81)\n",
    "env.step_size = 0.02"
   ]
  },
  {
   "cell_type": "markdown",
   "metadata": {},
   "source": [
    "LQR is a model based control approach which means we need to know the model of the system in order to use it. the model of the cart pendulum system is given as follows:\n",
    "$$\n",
    "    \\underbrace{\n",
    "    \\begin{bmatrix}\n",
    "        1 & 0 & 0 & 0\\\\\n",
    "        0 & 1 & 0 & 0\\\\\n",
    "        0 & 0 & m_{c} + m_{p} & l m_{p} \\cos (\\theta)\\\\\n",
    "        0 & 0 & \\cos (\\theta) & l\n",
    "    \\end{bmatrix}\n",
    "    }_{\\boldsymbol{M}}\n",
    "    \\underbrace{\n",
    "    \\begin{bmatrix}\n",
    "        \\dot{x}\\\\\n",
    "        \\dot{\\theta}\\\\\n",
    "        \\ddot{x}\\\\\n",
    "        \\ddot{\\theta}\n",
    "    \\end{bmatrix}\n",
    "    }_{\\boldsymbol{x}}\n",
    "    =\n",
    "    \\underbrace{\n",
    "    \\begin{bmatrix}\n",
    "        \\dot{x}\\\\\n",
    "        \\dot{\\theta}\\\\\n",
    "        l m_{p} \\dot{\\theta}^{2} \\sin (\\theta) + u\\\\\n",
    "        g \\sin (\\theta)\n",
    "    \\end{bmatrix}\n",
    "    }_{\\boldsymbol{F}}\n",
    "$$\n",
    "\n",
    "In order to make this more general we will use sympy to do the calculations symbolically"
   ]
  },
  {
   "cell_type": "code",
   "execution_count": 42,
   "metadata": {},
   "outputs": [],
   "source": [
    "import sympy as sp\n",
    "sp.init_printing()\n",
    "\n",
    "# Create the symbolic variabels that we will use\n",
    "m_c, m_p, l, theta, x, theta_dot, x_dot, u, g = sp.symbols('m_c m_p l theta x theta_dot x_dot u g')\n",
    "\n",
    "# Compute mass and forcing matrix as given above\n",
    "mass_matrix = sp.Matrix([[1, 0, 0, 0], [0, 1, 0, 0], [0, 0, m_c + m_p, m_p*l*sp.cos(theta)],[0, 0, sp.cos(theta), l]])\n",
    "forcing_matrix = sp.Matrix([[x_dot], [theta_dot], [m_p*l*theta_dot*theta_dot*sp.sin(theta) + u], [g*sp.sin(theta)]])"
   ]
  },
  {
   "cell_type": "markdown",
   "metadata": {},
   "source": [
    "We now wish to linearize the system about the equilibrim $\\boldsymbol{x} = [\\dot{x}, \\dot{\\theta}, \\ddot{x}, \\ddot{\\theta}]^{\\top} = [0, 0, 0, 0]^{\\top}$. To do this we first need to get the system on the form:\n",
    "\n",
    "$$\n",
    "    \\boldsymbol{x} = f(\\boldsymbol{x}) = \\boldsymbol{M}^{-1}\\boldsymbol{F}\n",
    "$$\n",
    "\n",
    "To linearize the system we then compute the matrix $\\boldsymbol{A}$ and $\\boldsymbol{B}$ according to: \n",
    "\n",
    "$$\n",
    "\\boldsymbol{A} \n",
    "=\n",
    "\\frac{\\partial f}{\\partial \\boldsymbol{x}}  \\bigg|_{\\boldsymbol{x} = 0}\n",
    "=\n",
    "\\begin{bmatrix}\n",
    "    \\frac{\\partial f_1}{\\partial x_1}  & \\cdots & \\frac{\\partial f_1}{\\partial x_n}  \\\\\n",
    "    \\vdots          &        & \\vdots          \\\\\n",
    "    \\frac{\\partial f_n}{\\partial x_1}  & \\cdots & \\frac{\\partial f_n}{\\partial x_n} \n",
    "\\end{bmatrix}\\Bigg|_{\\boldsymbol{x} = 0}\n",
    "$$\n",
    "\n",
    "$$\n",
    "\\boldsymbol{B} \n",
    "=\n",
    "\\frac{\\partial f}{\\partial \\boldsymbol{x}}  \\bigg|_{\\boldsymbol{x} = 0}\n",
    "=\n",
    "\\begin{bmatrix}\n",
    "    \\frac{\\partial f_1}{\\partial u} \\\\\n",
    "    \\vdots \\\\\n",
    "    \\frac{\\partial f_n}{\\partial u}\n",
    "\\end{bmatrix}\\Bigg|_{\\boldsymbol{x} = 0}\n",
    "$$\n"
   ]
  },
  {
   "cell_type": "code",
   "execution_count": 54,
   "metadata": {},
   "outputs": [
    {
     "data": {
      "text/latex": [
       "$$\\left ( \\left[\\begin{matrix}0 & 0 & 1 & 0\\\\0 & 0 & 0 & 1\\\\0 & - \\frac{g m_{p}}{m_{c}} & 0 & 0\\\\0 & \\frac{g \\left(m_{c} + m_{p}\\right)}{l m_{c}} & 0 & 0\\end{matrix}\\right], \\quad \\left[\\begin{matrix}0\\\\0\\\\\\frac{1}{m_{c}}\\\\- \\frac{1}{l m_{c}}\\end{matrix}\\right]\\right )$$"
      ],
      "text/plain": [
       "⎛⎡0       0        1  0⎤, ⎡  0  ⎤⎞\n",
       "⎜⎢                     ⎥  ⎢     ⎥⎟\n",
       "⎜⎢0       0        0  1⎥  ⎢  0  ⎥⎟\n",
       "⎜⎢                     ⎥  ⎢     ⎥⎟\n",
       "⎜⎢      -g⋅mₚ          ⎥  ⎢  1  ⎥⎟\n",
       "⎜⎢0     ──────     0  0⎥  ⎢ ─── ⎥⎟\n",
       "⎜⎢       m_c           ⎥  ⎢ m_c ⎥⎟\n",
       "⎜⎢                     ⎥  ⎢     ⎥⎟\n",
       "⎜⎢   g⋅(m_c + mₚ)      ⎥  ⎢ -1  ⎥⎟\n",
       "⎜⎢0  ────────────  0  0⎥  ⎢─────⎥⎟\n",
       "⎝⎣      l⋅m_c          ⎦  ⎣l⋅m_c⎦⎠"
      ]
     },
     "execution_count": 54,
     "metadata": {},
     "output_type": "execute_result"
    }
   ],
   "source": [
    "# find f(x) as specified above\n",
    "f = mass_matrix.inv()@forcing_matrix\n",
    "\n",
    "# Compute the jacobain of the system\n",
    "J = sp.Matrix([sp.diff(f, x).T, sp.diff(f, theta).T, sp.diff(f, x_dot).T, sp.diff(f, theta_dot).T]).T\n",
    "\n",
    "# Compute A and B\n",
    "A = sp.simplify(J.subs({x: 0, theta: 0 , x_dot : 0, theta_dot : 0}))\n",
    "B = sp.simplify(sp.diff(f, u).subs({x: 0, theta: 0 , x_dot : 0, theta_dot : 0}))\n",
    "\n",
    "A, B"
   ]
  },
  {
   "cell_type": "markdown",
   "metadata": {},
   "source": [
    "As a sidenote, computing the eigenvalues of the system gives:\n"
   ]
  },
  {
   "cell_type": "code",
   "execution_count": 57,
   "metadata": {},
   "outputs": [
    {
     "data": {
      "image/png": "[encoded data removed]",
      "text/latex": [
       "$$\\left \\{ 0 : 2, \\quad - \\sqrt{\\frac{g \\left(m_{c} + m_{p}\\right)}{l m_{c}}} : 1, \\quad \\sqrt{\\frac{g \\left(m_{c} + m_{p}\\right)}{l m_{c}}} : 1\\right \\}$$"
      ],
      "text/plain": [
       "⎧           ______________         ______________   ⎫\n",
       "⎪          ╱ g⋅(m_c + mₚ)         ╱ g⋅(m_c + mₚ)    ⎪\n",
       "⎨0: 2, -  ╱  ──────────── : 1,   ╱  ──────────── : 1⎬\n",
       "⎪       ╲╱      l⋅m_c          ╲╱      l⋅m_c        ⎪\n",
       "⎩                                                   ⎭"
      ]
     },
     "execution_count": 57,
     "metadata": {},
     "output_type": "execute_result"
    }
   ],
   "source": [
    "A.eigenvals()"
   ]
  },
  {
   "cell_type": "markdown",
   "metadata": {},
   "source": [
    "Where we have a pole with positive real part, from lyapunovs indirect method we can conclude that the origin is an unstable equilibrium point. "
   ]
  }
 ],
 "metadata": {
  "kernelspec": {
   "display_name": "Python [conda env:tensorflow]",
   "language": "python",
   "name": "conda-env-tensorflow-py"
  },
  "language_info": {
   "codemirror_mode": {
    "name": "ipython",
    "version": 3
   },
   "file_extension": ".py",
   "mimetype": "text/x-python",
   "name": "python",
   "nbconvert_exporter": "python",
   "pygments_lexer": "ipython3",
   "version": "3.5.3"
  }
 },
 "nbformat": 4,
 "nbformat_minor": 2
}
