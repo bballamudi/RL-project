{
 "cells": [
  {
   "cell_type": "markdown",
   "metadata": {},
   "source": [
    "# Robotic Manipulator example\n",
    "In this notebook we will walk through how the model of a robotic manipulator can be found as well as how the robotix mainpulator environment works\n",
    "\n",
    "<h1 id=\"tocheading\">Table of Contents</h1>\n",
    "<div id=\"toc\"></div>"
   ]
  },
  {
   "cell_type": "code",
   "execution_count": 1,
   "metadata": {},
   "outputs": [
    {
     "data": {
      "application/javascript": [
       "$.getScript('https://kmahelona.github.io/ipython_notebook_goodies/ipython_notebook_toc.js')"
      ],
      "text/plain": [
       "<IPython.core.display.Javascript object>"
      ]
     },
     "metadata": {},
     "output_type": "display_data"
    }
   ],
   "source": [
    "%%javascript\n",
    "$.getScript('https://kmahelona.github.io/ipython_notebook_goodies/ipython_notebook_toc.js')"
   ]
  },
  {
   "cell_type": "markdown",
   "metadata": {},
   "source": [
    "## Findig the equations of motion\n",
    "We will use the symbolic python library in order to find the equations of motion for the manipulator"
   ]
  },
  {
   "cell_type": "code",
   "execution_count": 2,
   "metadata": {},
   "outputs": [
    {
     "name": "stdout",
     "output_type": "stream",
     "text": [
      "IPython console for SymPy 1.0 (Python 3.6.0-64-bit) (ground types: python)\n",
      "\n",
      "These commands were executed:\n",
      ">>> from __future__ import division\n",
      ">>> from sympy import *\n",
      ">>> x, y, z, t = symbols('x y z t')\n",
      ">>> k, m, n = symbols('k m n', integer=True)\n",
      ">>> f, g, h = symbols('f g h', cls=Function)\n",
      ">>> init_printing()\n",
      "\n",
      "Documentation can be found at http://docs.sympy.org/1.0/\n"
     ]
    }
   ],
   "source": [
    "import numpy as np\n",
    "from sympy import *\n",
    "from sympy.matrices import *\n",
    "from sympy.physics.mechanics import *\n",
    "init_session()"
   ]
  },
  {
   "cell_type": "markdown",
   "metadata": {},
   "source": [
    "### Function for calculating DH translation matrices\n",
    "The [deviant hartenberg](https://en.wikipedia.org/wiki/Denavit%E2%80%93Hartenberg_parameters) parameters are the four parameters associated with a particular convention for attaching reference frames to the links of a spatial kinematic chain, or robot manipulator. The convention can be represented as four transformation matrices. \n",
    "$$\n",
    "\\operatorname{Rot}_{z_{n - 1}}(\\theta_n)\n",
    "  =\n",
    "\\left[\n",
    "\\begin{array}{ccc|c}\n",
    "    \\cos\\theta_n & -\\sin\\theta_n & 0 & 0 \\\\\n",
    "    \\sin\\theta_n &  \\cos\\theta_n & 0 & 0 \\\\\n",
    "    0 & 0 & 1 & 0 \\\\\n",
    "    \\hline\n",
    "    0 & 0 & 0 & 1\n",
    "  \\end{array}\n",
    "\\right]\n",
    ", \\quad\n",
    "\\operatorname{Trans}_{z_{n - 1}}(d_n)\n",
    "  =\n",
    "\\left[\n",
    "\\begin{array}{ccc|c}\n",
    "    1 & 0 & 0 & 0 \\\\\n",
    "    0 & 1 & 0 & 0 \\\\\n",
    "    0 & 0 & 1 & d_n \\\\\n",
    "    \\hline\n",
    "    0 & 0 & 0 & 1\n",
    "  \\end{array}\n",
    "\\right]\n",
    "$$\n",
    "$$\n",
    "\\operatorname{Trans}_{x_n}(r_n)\n",
    "  =\n",
    "\\left[\n",
    "\\begin{array}{ccc|c}\n",
    "    1 & 0 & 0 & r_n \\\\\n",
    "    0 & 1 & 0 & 0 \\\\\n",
    "    0 & 0 & 1 & 0 \\\\\n",
    "    \\hline\n",
    "    0 & 0 & 0 & 1\n",
    "  \\end{array}\n",
    "\\right]\n",
    ", \\quad\n",
    "\\operatorname{Rot}_{x_n}(\\alpha_n)\n",
    "  =\n",
    "\\left[\n",
    "\\begin{array}{ccc|c}\n",
    "    1 & 0 & 0 & 0 \\\\\n",
    "    0 & \\cos\\alpha_n & -\\sin\\alpha_n & 0 \\\\\n",
    "    0 & \\sin\\alpha_n & \\cos\\alpha_n & 0 \\\\\n",
    "    \\hline\n",
    "    0 & 0 & 0 & 1\n",
    "  \\end{array}\n",
    "\\right]\n",
    "$$\n",
    "Combinig these matrices we get the final transformation matrix for each link given as:\n",
    "$$\n",
    "\\operatorname{}T_n = \n",
    "\\operatorname{Rot}_{z_{n - 1}}(\\theta_n)\n",
    "\\operatorname{Trans}_{z_{n - 1}}(d_n)\n",
    "\\operatorname{Trans}_{x_n}(r_n)\n",
    "\\operatorname{Rot}_{x_n}(\\alpha_n)\n",
    "  =\n",
    "\\left[\n",
    "\\begin{array}{ccc|c}\n",
    "    \\cos\\theta_n & -\\sin\\theta_n \\cos\\alpha_n & \\sin\\theta_n \\sin\\alpha_n & r_n \\cos\\theta_n \\\\\n",
    "    \\sin\\theta_n & \\cos\\theta_n \\cos\\alpha_n & -\\cos\\theta_n \\sin\\alpha_n & r_n \\sin\\theta_n \\\\\n",
    "    0 & \\sin\\alpha_n & \\cos\\alpha_n & d_n \\\\\n",
    "    \\hline\n",
    "    0 & 0 & 0 & 1\n",
    "  \\end{array}\n",
    "\\right]\n",
    "$$"
   ]
  },
  {
   "cell_type": "code",
   "execution_count": 3,
   "metadata": {},
   "outputs": [],
   "source": [
    "# Calculates transformation matrix\n",
    "def DH(theta, d, a, alpha):\n",
    "    A1 = Matrix([[cos(theta), -sin(theta), 0, 0], [sin(theta), cos(theta), 0, 0], [0, 0, 1, 0], [0, 0, 0, 1]])\n",
    "    A2 = Matrix([[1, 0, 0, 0], [0, 1, 0, 0], [0, 0, 1, d], [0, 0, 0, 1]])\n",
    "    A3 = Matrix([[1, 0, 0, a], [0, 1, 0, 0], [0, 0, 1, 0], [0, 0, 0, 1]])\n",
    "    A4 = Matrix([[1, 0, 0, 0], [0, cos(alpha), -sin(alpha), 0], [0, sin(alpha), cos(alpha), 0], [0, 0, 0, 1]])\n",
    "    return A1*A2*A3*A4\n",
    "\n",
    "# Calculate multiple transformation matrixes\n",
    "def DH_all(parameters):\n",
    "    T = []\n",
    "    for i , pi in enumerate(parameters):\n",
    "        T.append(DH(pi[0], pi[1], pi[2], pi[3]))\n",
    "    return T"
   ]
  },
  {
   "cell_type": "markdown",
   "metadata": {},
   "source": [
    "### Calculate mass center distance from inertial cordinate frame\n",
    "Given a transformation matrix from a referance frame $0$ to referance frame $1$ denoted $T^0_1$ and a vector in the referanve frame $1$ given as $r^1 = [x, y, z]^T$. We can then compute the vector in refrence frame $0$ as:\n",
    "$$\n",
    "    r^0 = T^0_1 r^1\n",
    "$$\n",
    "The following function performs these calculations when given the center of mass in the local referancce frame, it computes the center of mass in the inertial referance frame"
   ]
  },
  {
   "cell_type": "code",
   "execution_count": 6,
   "metadata": {
    "collapsed": true
   },
   "outputs": [],
   "source": [
    "'''\n",
    " - T are the transformation matrices\n",
    " - r_l are the vectors of the center of mass in the loal referance frame\n",
    " - r_i are the vectors of the center of mass in the inertial frame\n",
    "'''\n",
    "def center_of_mass(T, r_l):\n",
    "    T0i = eye(4)\n",
    "    r_i = []\n",
    "    for i , li in enumerate(r_l):\n",
    "        T0i *= T[i]\n",
    "        ri.append(T0i*li)\n",
    "    return r_i"
   ]
  },
  {
   "cell_type": "markdown",
   "metadata": {},
   "source": [
    "### Function for calculating jacobian\n",
    "The time derivative of the kinematics equations yields the Jacobian of the robot, which relates the joint rates to the linear and angular velocity of the end-effector. The principle of virtual work shows that the Jacobian also provides a relationship between joint torques and the resultant force and torque applied by the end-effector. Singular configurations of the robot are identified by studying its Jacobian. \n",
    "\n",
    "The robotic linear velocity jacobian for the DH convention is defined as $J_v = [J_{v_1}, \\dots, J_{v_i}]$ where:\n",
    "\n",
    "$$\n",
    "J_{v_i} = \n",
    "\\begin{cases}\n",
    "  z_{i - 1} \\times (o_n - o_{i-1}) \\quad & \\text{for revolute joint}\\\\\n",
    "  Z_{i-1} \\quad & \\text{for prismatic joints}\n",
    "\\end{cases}\n",
    "$$\n",
    "\n",
    "The robotic angular velocity jacobian for the DH convention is defined as $J_\\omega = [J_{\\omega_1}, \\dots, J_{\\omega_i}]$ where:\n",
    "\n",
    "$$\n",
    "J_{v_i} = \n",
    "\\begin{cases}\n",
    "  z_{i - 1} \\quad & \\text{for revolute joint}\\\\\n",
    "  0 \\quad & \\text{for prismatic joints}\n",
    "\\end{cases}\n",
    "$$"
   ]
  },
  {
   "cell_type": "code",
   "execution_count": 10,
   "metadata": {},
   "outputs": [],
   "source": [
    "'''\n",
    " The inputs to the function are:\n",
    " - T are the transformation matrices\n",
    " - joints are prismatic p or revolute r \n",
    " - r_cm is the center of mass of each joint in the inertial frame\n",
    " \n",
    " The function returns one list containg the linear velocity jacobians for the to the centers of mass, \n",
    " and one list containig the angular velocity jacobians to the centers of mass. \n",
    "'''\n",
    "\n",
    "import copy\n",
    "def jacobian(T, joints, r_cm):\n",
    "    Tn = eye(4)\n",
    "    for i , Ti in enumerate(T):\n",
    "        Tn *= Ti\n",
    "    Jvi = []\n",
    "    Jwi = []\n",
    "    for i in range(len(r_cm)):\n",
    "        Jv = zeros(3, len(r_cm))\n",
    "        Jw = zeros(3, len(r_cm))\n",
    "        temp = eye(4)\n",
    "        rci = r_cm[i]\n",
    "        for j in range(i + 1):\n",
    "            zj = temp[0:3, 2]\n",
    "            if joints[j] == 'p': #Prismatic\n",
    "                Jv[0:3, j] = zj\n",
    "                Jw[0:3, j] = zeros(3, 1)\n",
    "            if joints[j] == 'r': #Revolute\n",
    "                Jv[0:3, j] = transpose(Matrix(np.cross(transpose(zj), transpose(rci[0:3, 0] - temp[0:3, 3]))))\n",
    "                Jw[0:3, j] = zj\n",
    "            temp *= T[j]\n",
    "        Jvi.append(simplify(copy.deepcopy(Jv)))\n",
    "        Jwi.append(simplify(copy.deepcopy(Jw)))\n",
    "    return Jvi, Jwi"
   ]
  },
  {
   "cell_type": "markdown",
   "metadata": {},
   "source": [
    "### Function for calculating equations of motion"
   ]
  },
  {
   "cell_type": "code",
   "execution_count": 8,
   "metadata": {
    "collapsed": true
   },
   "outputs": [],
   "source": [
    "def christoffel(D, i, j, k, q):\n",
    "    temp = diff(D[k, j], q[i]) + diff(D[k, i], q[j]) - diff(D[i, j], q[k]) \n",
    "    return simplify(temp/2)\n",
    "\n",
    "def EoM(Jvi, Jwi, I, T, rc, m, q, g):\n",
    "    D = zeros(len(q), len(q))\n",
    "    Ri = eye(3)\n",
    "    for i , Ti in enumerate(T):\n",
    "        mi = m[i]\n",
    "        Ri *= Ti[0:3, 0:3]\n",
    "        Ii = I[i]\n",
    "        D += mi*transpose(Jvi[i])*Jvi[i] + transpose(Jwi[i])*Ri*Ii*transpose(Ri)*Jwi[i]\n",
    "    D = simplify(D)\n",
    "    C = zeros(len(q), len(q))\n",
    "    for i in range(len(q)):\n",
    "        for j in range(len(q)):\n",
    "            for k in range(len(q)):\n",
    "                C[k, j] += christoffel(D, i, j, k, q)*diff(q[i], Symbol('t'))\n",
    "    C = simplify(C)\n",
    "    G = zeros(len(q), 1)\n",
    "    P = zeros(1,1)\n",
    "    for i , rci in enumerate(rc):\n",
    "        P += m[i]*transpose(g)*rci[0:3, 0]\n",
    "    for i, qi in enumerate(q):\n",
    "        G[i, 0] = diff(P, qi)\n",
    "    K = 0\n",
    "    for i in range(len(q)):\n",
    "        for j in range(len(q)):\n",
    "            K += D[i, j]*diff(q[i], Symbol('t'))*diff(q[j], Symbol('t'))\n",
    "    return D, C, G, simplify(K/2), simplify(P[0,0])"
   ]
  },
  {
   "cell_type": "markdown",
   "metadata": {},
   "source": [
    "# Finding equations of motion for 3 link manipulator"
   ]
  },
  {
   "cell_type": "code",
   "execution_count": 11,
   "metadata": {},
   "outputs": [],
   "source": [
    "#Find transformation matrices\n",
    "q1, q2, q3 = dynamicsymbols('q1 q2 q3')\n",
    "d3, a3 = 0, 1\n",
    "\n",
    "T = DH_all([[q1, 0, 0, pi/2],[0, q2, 0, -pi/2],[q3, d3, a3, 0]])\n",
    "\n",
    "#Define center of mass of each link\n",
    "m1, m2, m3 = 5, 5, 5\n",
    "lmx1, lmy1, lmz1, lmx2, lmy2, lmz2, lmx3, lmy3, lmz3 = 0, 0.5, 0, 0, 0, 0.5, 0, 0, 0.5\n",
    "\n",
    "lm1 = Matrix([lmx1, lmy1, lmz1, 1])\n",
    "lm2 = Matrix([lmx2, lmy2, lmz2, 1])\n",
    "lm3 = Matrix([lmx3, lmy3, lmz3, 1])\n",
    "\n",
    "#Find center of mass in inertia frame\n",
    "lm01 = simplify(T[0]*lm1)\n",
    "lm02 = simplify(T[0]*T[1]*lm2)\n",
    "lm03 = simplify(T[0]*T[1]*T[2]*lm3)\n",
    "\n",
    "#Define inerti tensor of each link\n",
    "Ix1, Iy1, Iz1, Ix2, Iy2, Iz2, Ix3, Iy3, Iz3 = 0, 1/12*m1*0.5**2, 0, 0, 0, 1/12*m1*0.5**2, 0, 0, 1/12*m1*0.5**2\n",
    "I1 = Matrix([[Ix1, 0, 0], [0, Iy1, 0], [0, 0, Iz1]])\n",
    "I2 = Matrix([[Ix2, 0, 0], [0, Iy2, 0], [0, 0, Iz2]])\n",
    "I3 = Matrix([[Ix3, 0, 0], [0, Iy3, 0], [0, 0, Iz3]])\n",
    "\n",
    "#find Jacobian\n",
    "Jvi, Jwi = jacobian(T, ['r','p','r'], [lm01, lm02, lm03])\n",
    "\n",
    "#find equatgions of motion\n",
    "g = Matrix([[0],[9.81], [0]])\n",
    "D, C, G, K, P = EoM(Jvi, Jwi, [I1, I2, I3], T, [lm01, lm02, lm03], [m1, m2, m3], [q1, q2, q3], g)"
   ]
  },
  {
   "cell_type": "code",
   "execution_count": 13,
   "metadata": {
    "scrolled": false
   },
   "outputs": [
    {
     "data": {
      "text/latex": [
       "$$\\left[\\begin{matrix}1 & 0 & 0 & 0 & 0 & 0\\\\0 & 1 & 0 & 0 & 0 & 0\\\\0 & 0 & 1 & 0 & 0 & 0\\\\0 & 0 & 0 & 10.0 \\operatorname{q_{2}}^{2}{\\left (t \\right )} - 10.0 \\operatorname{q_{2}}{\\left (t \\right )} \\sin{\\left (\\operatorname{q_{3}}{\\left (t \\right )} \\right )} + 5.3125 & - 5 \\cos{\\left (\\operatorname{q_{3}}{\\left (t \\right )} \\right )} & - 5.0 \\operatorname{q_{2}}{\\left (t \\right )} \\sin{\\left (\\operatorname{q_{3}}{\\left (t \\right )} \\right )} + 5.10416666666667\\\\0 & 0 & 0 & - 5 \\cos{\\left (\\operatorname{q_{3}}{\\left (t \\right )} \\right )} & 10 & - 5 \\cos{\\left (\\operatorname{q_{3}}{\\left (t \\right )} \\right )}\\\\0 & 0 & 0 & - 5.0 \\operatorname{q_{2}}{\\left (t \\right )} \\sin{\\left (\\operatorname{q_{3}}{\\left (t \\right )} \\right )} + 5.10416666666667 & - 5 \\cos{\\left (\\operatorname{q_{3}}{\\left (t \\right )} \\right )} & 5.10416666666667\\end{matrix}\\right]$$"
      ],
      "text/plain": [
       "⎡1  0  0                       0                              0               \n",
       "⎢                                                                             \n",
       "⎢0  1  0                       0                              0               \n",
       "⎢                                                                             \n",
       "⎢0  0  1                       0                              0               \n",
       "⎢                                                                             \n",
       "⎢                2                                                            \n",
       "⎢0  0  0  10.0⋅q₂ (t) - 10.0⋅q₂(t)⋅sin(q₃(t)) + 5.3125  -5⋅cos(q₃(t))  -5.0⋅q₂\n",
       "⎢                                                                             \n",
       "⎢0  0  0                 -5⋅cos(q₃(t))                       10               \n",
       "⎢                                                                             \n",
       "⎣0  0  0    -5.0⋅q₂(t)⋅sin(q₃(t)) + 5.10416666666667    -5⋅cos(q₃(t))         \n",
       "\n",
       "            0                    ⎤\n",
       "                                 ⎥\n",
       "            0                    ⎥\n",
       "                                 ⎥\n",
       "            0                    ⎥\n",
       "                                 ⎥\n",
       "                                 ⎥\n",
       "(t)⋅sin(q₃(t)) + 5.10416666666667⎥\n",
       "                                 ⎥\n",
       "      -5⋅cos(q₃(t))              ⎥\n",
       "                                 ⎥\n",
       "     5.10416666666667            ⎦"
      ]
     },
     "execution_count": 13,
     "metadata": {},
     "output_type": "execute_result"
    }
   ],
   "source": [
    "q1, q2, q3 = dynamicsymbols('q1 q2 q3')\n",
    "L = K - P\n",
    "LM = LagrangesMethod(L, [q1, q2, q3])\n",
    "eom = LM.form_lagranges_equations()\n",
    "\n",
    "LM.mass_matrix_full"
   ]
  },
  {
   "cell_type": "markdown",
   "metadata": {},
   "source": [
    "# Find equations of motion for 2 link maipulator"
   ]
  },
  {
   "cell_type": "code",
   "execution_count": 14,
   "metadata": {},
   "outputs": [],
   "source": [
    "M = LM.mass_matrix_full\n",
    "F = LM.forcing_full\n",
    "\n",
    "q1d, q2d, q3d = dynamicsymbols('q1d q2d q3d')\n",
    "F = F.subs(diff(q1, Symbol('t')), q1d)\n",
    "F = F.subs(diff(q2, Symbol('t')), q2d)\n",
    "F = F.subs(diff(q3, Symbol('t')), q3d)"
   ]
  },
  {
   "cell_type": "code",
   "execution_count": 15,
   "metadata": {},
   "outputs": [],
   "source": [
    "from numpy.linalg import solve\n",
    "state_vector = [q1, q2, q3, q1d, q2d, q3d]\n",
    "\n",
    "C = C.subs(diff(q1, Symbol('t')), q1d)\n",
    "C = C.subs(diff(q2, Symbol('t')), q2d)\n",
    "C = C.subs(diff(q3, Symbol('t')), q3d)\n",
    "\n",
    "M_func = lambdify(state_vector, M)\n",
    "F_func = lambdify(state_vector, F)\n",
    "\n",
    "D_func = lambdify(state_vector, D)\n",
    "C_func = lambdify(state_vector, C)\n",
    "G_func = lambdify(state_vector, G)\n",
    "\n",
    "\n",
    "Kp = np.diag([100, 100, 100])\n",
    "Kd = np.diag([100, 100, 100])\n",
    "x_d = [3.14/2, 1, 0, 0, 0, 0]\n",
    "\n",
    "def dx(x, t, args):\n",
    "    \n",
    "    #PD-regulator \n",
    "    q_tilde = np.subtract(np.matrix(x), np.matrix(x_d)).T\n",
    "    u = -Kp*q_tilde[0:3, 0] - Kd*q_tilde[3:6, 0] + G_func(*x)\n",
    "    \n",
    "    #Joint space inverse dynamics\n",
    "    a, b, c = 0.5, 2, 0.25\n",
    "    qd = [np.sin(a*t), np.sin(b*t), np.sin(c*t), a*np.cos(a*t), b*np.cos(b*t), c*np.cos(c*t)]\n",
    "    q_tilde = np.subtract(np.matrix(x), np.matrix(qd)).T\n",
    "    q_dd_d = np.matrix([[-a*a*np.sin(a*t)],[-b*b*np.sin(b*t)],[-c*c*np.sin(c*t)]])\n",
    "    \n",
    "    aq = q_dd_d - Kp*q_tilde[0:3, 0] - Kd*q_tilde[3:6, 0]\n",
    "    u = D_func(*x)*aq + C_func(*x)*np.matrix(x[3:6]).T + G_func(*x)\n",
    "    \n",
    "    tau = numpy.concatenate((np.matrix([[0],[0],[0]]),u))\n",
    "    #find state derivatives\n",
    "    return (solve(M_func(*x), F_func(*x) + np.array(tau))).T[0]"
   ]
  },
  {
   "cell_type": "code",
   "execution_count": 16,
   "metadata": {},
   "outputs": [],
   "source": [
    "from scipy.integrate import odeint\n",
    "parameter_vals = 0\n",
    "t = np.linspace(0, 15, 1000)                        # Time vector\n",
    "x0 = [0, 0, 0, 0, 0, 0]\n",
    "y = odeint(dx, x0, t, args=(parameter_vals,))       # Actual integration"
   ]
  },
  {
   "cell_type": "code",
   "execution_count": 17,
   "metadata": {},
   "outputs": [],
   "source": [
    "import matplotlib.pyplot as plt\n",
    "pq1 = plt.plot(t, y[:, 0:3])\n",
    "plt.show()"
   ]
  },
  {
   "cell_type": "code",
   "execution_count": 18,
   "metadata": {},
   "outputs": [],
   "source": [
    "#from numpy import zeros, cos, sin, arange, around\n",
    "from matplotlib import pyplot as plt\n",
    "from matplotlib import animation\n",
    "import numpy as np\n",
    "plt.rcParams['animation.ffmpeg_path'] = 'C:/Program Files (x86)/ffmpeg/bin/ffmpeg.exe'\n",
    "\n",
    "P01 = lambdify([q1, q2, q3], (T[0])[0:3, 3])\n",
    "P02 = lambdify([q1, q2, q3], (T[0]*T[1])[0:3, 3])\n",
    "P03 = lambdify([q1, q2, q3], (T[0]*T[1]*T[2])[0:3, 3])\n",
    "\n",
    "\n",
    "pos1 = zeros(3, len(t))\n",
    "pos2 = zeros(3, len(t))\n",
    "pos3 = zeros(3, len(t))\n",
    "for i in range(len(t)):\n",
    "    pos1[:, i] = P01(*y[i, 0:3])\n",
    "    pos2[:, i] = P02(*y[i, 0:3])\n",
    "    pos3[:, i] = P03(*y[i, 0:3])\n",
    "\n",
    "filename = None\n",
    "#filename = 'open-loop.mp4'\n",
    "\n",
    "\n",
    "# First set up the figure, the axis, and the plot element we want to animate\n",
    "plt.close()\n",
    "fig = plt.figure()\n",
    "ax = plt.axes(xlim=(-2, 2), ylim=(-2, 2), aspect='equal')\n",
    "time_text = ax.text(0.04, 0.9, '', transform=ax.transAxes)\n",
    "line, = ax.plot([], [], lw=2, marker='o')\n",
    "\n",
    "# initialization function: plot the background of each frame\n",
    "def init():\n",
    "    time_text.set_text('')\n",
    "    line.set_data([], [])\n",
    "    return time_text, line,\n",
    "\n",
    "# animation function.  This is called sequentially\n",
    "def animate(i):\n",
    "    time_text.set_text('time = {:2.2f}'.format(t[i]))\n",
    "    x = [0, 0, 0]\n",
    "    y = [0, 0, 0]\n",
    "    x[0] = pos1[0, i]\n",
    "    y[0] = pos1[1, i]\n",
    "    x[1] = pos2[0, i]\n",
    "    y[1] = pos2[1, i]\n",
    "    x[2] = pos3[0, i]\n",
    "    y[2] = pos3[1, i]\n",
    "    \n",
    "    line.set_data((x, y))\n",
    "    return time_text, line,\n",
    "\n",
    "# call the animator.  blit=True means only re-draw the parts that have changed.\n",
    "anim = animation.FuncAnimation(fig, animate, frames=len(t), init_func=init,\n",
    "                                   interval=t[-1] / len(t) * 1000, blit=True, repeat=False)\n",
    "    \n",
    "if filename is not None:\n",
    "    anim.save(filename, fps=30, extra_args=['-vcodec', 'libx264'])\n",
    "\n",
    "plt.show()"
   ]
  }
 ],
 "metadata": {
  "anaconda-cloud": {},
  "kernelspec": {
   "display_name": "Python [conda env:symbolic]",
   "language": "python",
   "name": "conda-env-symbolic-py"
  },
  "language_info": {
   "codemirror_mode": {
    "name": "ipython",
    "version": 3
   },
   "file_extension": ".py",
   "mimetype": "text/x-python",
   "name": "python",
   "nbconvert_exporter": "python",
   "pygments_lexer": "ipython3",
   "version": "3.6.0"
  }
 },
 "nbformat": 4,
 "nbformat_minor": 2
}
